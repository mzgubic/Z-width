{
 "cells": [
  {
   "cell_type": "markdown",
   "metadata": {},
   "source": [
    "![](Z_resonance.jpg)\n",
    "\n",
    "The figure shows the cross section of:\n",
    "\n",
    "$$e^+ e^- \\rightarrow Z \\rightarrow \\text{hadrons}$$\n",
    "\n",
    "as a function of center of mass energy. The expression for the resonance is given by:\n",
    "\n",
    "$$\n",
    "\\sigma(e^+ e^- \\rightarrow Z \\rightarrow f\\bar f) = \\frac{12\\pi}{m_Z^2} \\frac{s}{(s-m_Z^2)^2 + m_Z^2 \\Gamma_Z^2} \\Gamma_{ee}\\Gamma_{ff}\n",
    "$$\n",
    "\n",
    "where $m_Z$ is the $Z$ mass, $s$ is the center of mass energy of electrons, $\\Gamma_Z$ is the total width of the $Z$ and $\\Gamma_{ee}$, $\\Gamma_{f\\bar f}$ are the partial widths to electorn-positron and generic fermion-antifermion pairs.\n",
    "(from http://www.hep.phy.cam.ac.uk/~thomson/lectures/partIIIparticles/Handout14_2009.pdf)\n",
    "\n",
    "The total width of the $Z$ can also be written as a sum of its partial widths:\n",
    "\n",
    "$$\n",
    "\\Gamma_Z = \\sum_{f} \\Gamma_{f\\bar f} = \\Gamma_{vis} + N_\\nu \\Gamma_{\\nu}\n",
    "$$\n",
    "\n",
    "Where we have collected the charged lepton and quark widths into the visible partial widths, and the neutrinos $\\nu$ form the invisible contribution to the width. $N_\\nu$ is the number of light neutrinos, and $\\Gamma_\\nu$ is the partial width of the $Z$ to a neutrino pair. Hence, the cross section can be written as:\n",
    "\n",
    "$$\n",
    "\\sigma(e^+ e^- \\rightarrow Z \\rightarrow f\\bar f) = \\frac{12\\pi}{m_Z^2} \\frac{s}{(s-m_Z^2)^2 + m_Z^2 (\\Gamma_{vis} + N_\\nu \\Gamma_{\\nu})^2} \\Gamma_{ee}\\Gamma_{ff}\n",
    "$$\n",
    "\n",
    "where all the quantities in the expression (apart from $N_\\nu$ of course) are independent of the number of light neutrinos."
   ]
  },
  {
   "cell_type": "code",
   "execution_count": null,
   "metadata": {
    "collapsed": true
   },
   "outputs": [],
   "source": []
  }
 ],
 "metadata": {
  "kernelspec": {
   "display_name": "Python 2",
   "language": "python",
   "name": "python2"
  },
  "language_info": {
   "codemirror_mode": {
    "name": "ipython",
    "version": 2
   },
   "file_extension": ".py",
   "mimetype": "text/x-python",
   "name": "python",
   "nbconvert_exporter": "python",
   "pygments_lexer": "ipython2",
   "version": "2.7.13"
  }
 },
 "nbformat": 4,
 "nbformat_minor": 2
}
